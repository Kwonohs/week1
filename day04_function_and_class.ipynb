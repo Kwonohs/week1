{
  "cells": [
    {
      "cell_type": "markdown",
      "metadata": {
        "id": "mZoepzGCkfk8"
      },
      "source": [
        "# 6.파이썬의 함수"
      ]
    },
    {
      "cell_type": "markdown",
      "metadata": {
        "id": "co_EH3TINa6_"
      },
      "source": [
        "## 6.1 내장함수\n",
        "\n",
        "파이썬 인터프리터에는 항상 사용할 수 있는 많은 함수가 내장되어 있음.  \n",
        "이를 내장함수라고 하고 외부 모듈에서 불러오는 것이 아니기 때문에 import가 필요하지 않음"
      ]
    },
    {
      "cell_type": "code",
      "execution_count": 23,
      "metadata": {
        "id": "vhicq3-qTnKS"
      },
      "outputs": [],
      "source": [
        "# user_input = input()\n",
        "# for i in user_input:\n",
        "#     if \n",
        "\n",
        "# 49 ~ 57\n",
        "\n",
        "\n",
        "user_input = input()\n",
        "for i in user_input:\n",
        "    if 48 <= ord(i) <= 57:\n",
        "       continue\n",
        "    print(\"숫자로 구성되어있지 않습니다.\")\n",
        "    break\n",
        "\n",
        "    \n"
      ]
    },
    {
      "cell_type": "markdown",
      "metadata": {
        "id": "goP2BMG0lZcr"
      },
      "source": [
        "### 6.1.1 문자열 내장 함수"
      ]
    },
    {
      "cell_type": "markdown",
      "metadata": {
        "id": "sYp1XEBQXT52"
      },
      "source": [
        "#### chr()\n",
        "\n",
        "모든 문자는 자신만의 코드 값을 가지고 있음.  \n",
        "이를 '문자 코드'라고 하는데 미국 표준 코드인   \n",
        "아스키코드나 국제 표준 코드인 유니코드 등이 존재.  \n",
        "chr() 함수는 특정 문자의 코드 값을 전달하면  \n",
        "해당 유니코드 값을 가진 문자를 반환하는 함수  "
      ]
    },
    {
      "cell_type": "code",
      "execution_count": null,
      "metadata": {
        "colab": {
          "base_uri": "https://localhost:8080/"
        },
        "id": "6SE5aFObp5Xf",
        "outputId": "b3e95c5e-bb6c-4ca8-f18f-3586b1c4dcbb"
      },
      "outputs": [
        {
          "name": "stdout",
          "output_type": "stream",
          "text": [
            "Help on built-in function chr in module builtins:\n",
            "\n",
            "chr(i, /)\n",
            "    Return a Unicode string of one character with ordinal i; 0 <= i <= 0x10ffff.\n",
            "\n"
          ]
        }
      ],
      "source": [
        "help(chr)"
      ]
    },
    {
      "cell_type": "code",
      "execution_count": null,
      "metadata": {},
      "outputs": [],
      "source": []
    },
    {
      "cell_type": "markdown",
      "metadata": {
        "id": "Bk-GRNPYXT8R"
      },
      "source": [
        "#### ord()\n",
        "\n",
        "문자를 전달하면 해당 문자의 유니코드 값을 반환하는 함수"
      ]
    },
    {
      "cell_type": "code",
      "execution_count": null,
      "metadata": {
        "colab": {
          "base_uri": "https://localhost:8080/"
        },
        "id": "cVkSbW8Bp7pP",
        "outputId": "696a5d0c-4251-487d-cb74-6d8ce36ead30"
      },
      "outputs": [
        {
          "name": "stdout",
          "output_type": "stream",
          "text": [
            "Help on built-in function ord in module builtins:\n",
            "\n",
            "ord(c, /)\n",
            "    Return the Unicode code point for a one-character string.\n",
            "\n"
          ]
        }
      ],
      "source": [
        "help(ord)"
      ]
    },
    {
      "cell_type": "code",
      "execution_count": null,
      "metadata": {},
      "outputs": [],
      "source": []
    },
    {
      "cell_type": "markdown",
      "metadata": {
        "id": "duhrjrKkXT_p"
      },
      "source": [
        "#### eval()\n",
        "\n",
        "실행하고자 하는 표현식을 문자열로 전달하면 표현식의 결과를 반환"
      ]
    },
    {
      "cell_type": "code",
      "execution_count": null,
      "metadata": {
        "colab": {
          "base_uri": "https://localhost:8080/"
        },
        "id": "z6rXT6WoqJXw",
        "outputId": "7f2e8d33-c2fc-44ba-a69d-6b412a4d44f9"
      },
      "outputs": [
        {
          "name": "stdout",
          "output_type": "stream",
          "text": [
            "Help on built-in function eval in module builtins:\n",
            "\n",
            "eval(source, globals=None, locals=None, /)\n",
            "    Evaluate the given source in the context of globals and locals.\n",
            "    \n",
            "    The source may be a string representing a Python expression\n",
            "    or a code object as returned by compile().\n",
            "    The globals must be a dictionary and locals can be any mapping,\n",
            "    defaulting to the current globals and locals.\n",
            "    If only globals is given, locals defaults to it.\n",
            "\n"
          ]
        }
      ],
      "source": [
        "help(eval)"
      ]
    },
    {
      "cell_type": "code",
      "execution_count": 33,
      "metadata": {},
      "outputs": [
        {
          "data": {
            "text/plain": [
              "1"
            ]
          },
          "execution_count": 33,
          "metadata": {},
          "output_type": "execute_result"
        }
      ],
      "source": [
        "a = \"[1, 2, 3]\"\n",
        "\n",
        "eval(a)\n",
        "\n",
        "a = \"1, 2, 3\"\n",
        "eval(a)\n",
        "int(a[0])"
      ]
    },
    {
      "cell_type": "code",
      "execution_count": 38,
      "metadata": {},
      "outputs": [
        {
          "data": {
            "text/plain": [
              "(1, 2, 3)"
            ]
          },
          "execution_count": 38,
          "metadata": {},
          "output_type": "execute_result"
        }
      ],
      "source": [
        "eval(\"1, 2, 3\")"
      ]
    },
    {
      "cell_type": "markdown",
      "metadata": {
        "id": "jop-5wl8XUHQ"
      },
      "source": [
        "#### format()\n",
        "\n",
        "전달받은 인수와 포맷 코드에 따라 형식을 갖춘 문자열 반환"
      ]
    },
    {
      "cell_type": "code",
      "execution_count": null,
      "metadata": {
        "colab": {
          "base_uri": "https://localhost:8080/"
        },
        "id": "QBHFmLPlqUvZ",
        "outputId": "5cdb8cce-2368-4682-9e34-8d8d44ddf9bb"
      },
      "outputs": [
        {
          "name": "stdout",
          "output_type": "stream",
          "text": [
            "Help on built-in function format in module builtins:\n",
            "\n",
            "format(value, format_spec='', /)\n",
            "    Return value.__format__(format_spec)\n",
            "    \n",
            "    format_spec defaults to the empty string.\n",
            "    See the Format Specification Mini-Language section of help('FORMATTING') for\n",
            "    details.\n",
            "\n"
          ]
        }
      ],
      "source": [
        "help(format)"
      ]
    },
    {
      "cell_type": "markdown",
      "metadata": {
        "id": "HI8fhrUQXbxP"
      },
      "source": [
        "#### str()\n",
        "\n",
        "전달받은 인수를 문자열로 변환하여 반환"
      ]
    },
    {
      "cell_type": "code",
      "execution_count": null,
      "metadata": {
        "colab": {
          "base_uri": "https://localhost:8080/"
        },
        "id": "qdtu6ArJqYrf",
        "outputId": "025ba2c5-5a42-491f-d92a-24540bab727d"
      },
      "outputs": [
        {
          "name": "stdout",
          "output_type": "stream",
          "text": [
            "Help on class str in module builtins:\n",
            "\n",
            "class str(object)\n",
            " |  str(object='') -> str\n",
            " |  str(bytes_or_buffer[, encoding[, errors]]) -> str\n",
            " |  \n",
            " |  Create a new string object from the given object. If encoding or\n",
            " |  errors is specified, then the object must expose a data buffer\n",
            " |  that will be decoded using the given encoding and error handler.\n",
            " |  Otherwise, returns the result of object.__str__() (if defined)\n",
            " |  or repr(object).\n",
            " |  encoding defaults to sys.getdefaultencoding().\n",
            " |  errors defaults to 'strict'.\n",
            " |  \n",
            " |  Methods defined here:\n",
            " |  \n",
            " |  __add__(self, value, /)\n",
            " |      Return self+value.\n",
            " |  \n",
            " |  __contains__(self, key, /)\n",
            " |      Return key in self.\n",
            " |  \n",
            " |  __eq__(self, value, /)\n",
            " |      Return self==value.\n",
            " |  \n",
            " |  __format__(self, format_spec, /)\n",
            " |      Return a formatted version of the string as described by format_spec.\n",
            " |  \n",
            " |  __ge__(self, value, /)\n",
            " |      Return self>=value.\n",
            " |  \n",
            " |  __getattribute__(self, name, /)\n",
            " |      Return getattr(self, name).\n",
            " |  \n",
            " |  __getitem__(self, key, /)\n",
            " |      Return self[key].\n",
            " |  \n",
            " |  __getnewargs__(...)\n",
            " |  \n",
            " |  __gt__(self, value, /)\n",
            " |      Return self>value.\n",
            " |  \n",
            " |  __hash__(self, /)\n",
            " |      Return hash(self).\n",
            " |  \n",
            " |  __iter__(self, /)\n",
            " |      Implement iter(self).\n",
            " |  \n",
            " |  __le__(self, value, /)\n",
            " |      Return self<=value.\n",
            " |  \n",
            " |  __len__(self, /)\n",
            " |      Return len(self).\n",
            " |  \n",
            " |  __lt__(self, value, /)\n",
            " |      Return self<value.\n",
            " |  \n",
            " |  __mod__(self, value, /)\n",
            " |      Return self%value.\n",
            " |  \n",
            " |  __mul__(self, value, /)\n",
            " |      Return self*value.\n",
            " |  \n",
            " |  __ne__(self, value, /)\n",
            " |      Return self!=value.\n",
            " |  \n",
            " |  __repr__(self, /)\n",
            " |      Return repr(self).\n",
            " |  \n",
            " |  __rmod__(self, value, /)\n",
            " |      Return value%self.\n",
            " |  \n",
            " |  __rmul__(self, value, /)\n",
            " |      Return value*self.\n",
            " |  \n",
            " |  __sizeof__(self, /)\n",
            " |      Return the size of the string in memory, in bytes.\n",
            " |  \n",
            " |  __str__(self, /)\n",
            " |      Return str(self).\n",
            " |  \n",
            " |  capitalize(self, /)\n",
            " |      Return a capitalized version of the string.\n",
            " |      \n",
            " |      More specifically, make the first character have upper case and the rest lower\n",
            " |      case.\n",
            " |  \n",
            " |  casefold(self, /)\n",
            " |      Return a version of the string suitable for caseless comparisons.\n",
            " |  \n",
            " |  center(self, width, fillchar=' ', /)\n",
            " |      Return a centered string of length width.\n",
            " |      \n",
            " |      Padding is done using the specified fill character (default is a space).\n",
            " |  \n",
            " |  count(...)\n",
            " |      S.count(sub[, start[, end]]) -> int\n",
            " |      \n",
            " |      Return the number of non-overlapping occurrences of substring sub in\n",
            " |      string S[start:end].  Optional arguments start and end are\n",
            " |      interpreted as in slice notation.\n",
            " |  \n",
            " |  encode(self, /, encoding='utf-8', errors='strict')\n",
            " |      Encode the string using the codec registered for encoding.\n",
            " |      \n",
            " |      encoding\n",
            " |        The encoding in which to encode the string.\n",
            " |      errors\n",
            " |        The error handling scheme to use for encoding errors.\n",
            " |        The default is 'strict' meaning that encoding errors raise a\n",
            " |        UnicodeEncodeError.  Other possible values are 'ignore', 'replace' and\n",
            " |        'xmlcharrefreplace' as well as any other name registered with\n",
            " |        codecs.register_error that can handle UnicodeEncodeErrors.\n",
            " |  \n",
            " |  endswith(...)\n",
            " |      S.endswith(suffix[, start[, end]]) -> bool\n",
            " |      \n",
            " |      Return True if S ends with the specified suffix, False otherwise.\n",
            " |      With optional start, test S beginning at that position.\n",
            " |      With optional end, stop comparing S at that position.\n",
            " |      suffix can also be a tuple of strings to try.\n",
            " |  \n",
            " |  expandtabs(self, /, tabsize=8)\n",
            " |      Return a copy where all tab characters are expanded using spaces.\n",
            " |      \n",
            " |      If tabsize is not given, a tab size of 8 characters is assumed.\n",
            " |  \n",
            " |  find(...)\n",
            " |      S.find(sub[, start[, end]]) -> int\n",
            " |      \n",
            " |      Return the lowest index in S where substring sub is found,\n",
            " |      such that sub is contained within S[start:end].  Optional\n",
            " |      arguments start and end are interpreted as in slice notation.\n",
            " |      \n",
            " |      Return -1 on failure.\n",
            " |  \n",
            " |  format(...)\n",
            " |      S.format(*args, **kwargs) -> str\n",
            " |      \n",
            " |      Return a formatted version of S, using substitutions from args and kwargs.\n",
            " |      The substitutions are identified by braces ('{' and '}').\n",
            " |  \n",
            " |  format_map(...)\n",
            " |      S.format_map(mapping) -> str\n",
            " |      \n",
            " |      Return a formatted version of S, using substitutions from mapping.\n",
            " |      The substitutions are identified by braces ('{' and '}').\n",
            " |  \n",
            " |  index(...)\n",
            " |      S.index(sub[, start[, end]]) -> int\n",
            " |      \n",
            " |      Return the lowest index in S where substring sub is found, \n",
            " |      such that sub is contained within S[start:end].  Optional\n",
            " |      arguments start and end are interpreted as in slice notation.\n",
            " |      \n",
            " |      Raises ValueError when the substring is not found.\n",
            " |  \n",
            " |  isalnum(self, /)\n",
            " |      Return True if the string is an alpha-numeric string, False otherwise.\n",
            " |      \n",
            " |      A string is alpha-numeric if all characters in the string are alpha-numeric and\n",
            " |      there is at least one character in the string.\n",
            " |  \n",
            " |  isalpha(self, /)\n",
            " |      Return True if the string is an alphabetic string, False otherwise.\n",
            " |      \n",
            " |      A string is alphabetic if all characters in the string are alphabetic and there\n",
            " |      is at least one character in the string.\n",
            " |  \n",
            " |  isascii(self, /)\n",
            " |      Return True if all characters in the string are ASCII, False otherwise.\n",
            " |      \n",
            " |      ASCII characters have code points in the range U+0000-U+007F.\n",
            " |      Empty string is ASCII too.\n",
            " |  \n",
            " |  isdecimal(self, /)\n",
            " |      Return True if the string is a decimal string, False otherwise.\n",
            " |      \n",
            " |      A string is a decimal string if all characters in the string are decimal and\n",
            " |      there is at least one character in the string.\n",
            " |  \n",
            " |  isdigit(self, /)\n",
            " |      Return True if the string is a digit string, False otherwise.\n",
            " |      \n",
            " |      A string is a digit string if all characters in the string are digits and there\n",
            " |      is at least one character in the string.\n",
            " |  \n",
            " |  isidentifier(self, /)\n",
            " |      Return True if the string is a valid Python identifier, False otherwise.\n",
            " |      \n",
            " |      Use keyword.iskeyword() to test for reserved identifiers such as \"def\" and\n",
            " |      \"class\".\n",
            " |  \n",
            " |  islower(self, /)\n",
            " |      Return True if the string is a lowercase string, False otherwise.\n",
            " |      \n",
            " |      A string is lowercase if all cased characters in the string are lowercase and\n",
            " |      there is at least one cased character in the string.\n",
            " |  \n",
            " |  isnumeric(self, /)\n",
            " |      Return True if the string is a numeric string, False otherwise.\n",
            " |      \n",
            " |      A string is numeric if all characters in the string are numeric and there is at\n",
            " |      least one character in the string.\n",
            " |  \n",
            " |  isprintable(self, /)\n",
            " |      Return True if the string is printable, False otherwise.\n",
            " |      \n",
            " |      A string is printable if all of its characters are considered printable in\n",
            " |      repr() or if it is empty.\n",
            " |  \n",
            " |  isspace(self, /)\n",
            " |      Return True if the string is a whitespace string, False otherwise.\n",
            " |      \n",
            " |      A string is whitespace if all characters in the string are whitespace and there\n",
            " |      is at least one character in the string.\n",
            " |  \n",
            " |  istitle(self, /)\n",
            " |      Return True if the string is a title-cased string, False otherwise.\n",
            " |      \n",
            " |      In a title-cased string, upper- and title-case characters may only\n",
            " |      follow uncased characters and lowercase characters only cased ones.\n",
            " |  \n",
            " |  isupper(self, /)\n",
            " |      Return True if the string is an uppercase string, False otherwise.\n",
            " |      \n",
            " |      A string is uppercase if all cased characters in the string are uppercase and\n",
            " |      there is at least one cased character in the string.\n",
            " |  \n",
            " |  join(self, iterable, /)\n",
            " |      Concatenate any number of strings.\n",
            " |      \n",
            " |      The string whose method is called is inserted in between each given string.\n",
            " |      The result is returned as a new string.\n",
            " |      \n",
            " |      Example: '.'.join(['ab', 'pq', 'rs']) -> 'ab.pq.rs'\n",
            " |  \n",
            " |  ljust(self, width, fillchar=' ', /)\n",
            " |      Return a left-justified string of length width.\n",
            " |      \n",
            " |      Padding is done using the specified fill character (default is a space).\n",
            " |  \n",
            " |  lower(self, /)\n",
            " |      Return a copy of the string converted to lowercase.\n",
            " |  \n",
            " |  lstrip(self, chars=None, /)\n",
            " |      Return a copy of the string with leading whitespace removed.\n",
            " |      \n",
            " |      If chars is given and not None, remove characters in chars instead.\n",
            " |  \n",
            " |  partition(self, sep, /)\n",
            " |      Partition the string into three parts using the given separator.\n",
            " |      \n",
            " |      This will search for the separator in the string.  If the separator is found,\n",
            " |      returns a 3-tuple containing the part before the separator, the separator\n",
            " |      itself, and the part after it.\n",
            " |      \n",
            " |      If the separator is not found, returns a 3-tuple containing the original string\n",
            " |      and two empty strings.\n",
            " |  \n",
            " |  replace(self, old, new, count=-1, /)\n",
            " |      Return a copy with all occurrences of substring old replaced by new.\n",
            " |      \n",
            " |        count\n",
            " |          Maximum number of occurrences to replace.\n",
            " |          -1 (the default value) means replace all occurrences.\n",
            " |      \n",
            " |      If the optional argument count is given, only the first count occurrences are\n",
            " |      replaced.\n",
            " |  \n",
            " |  rfind(...)\n",
            " |      S.rfind(sub[, start[, end]]) -> int\n",
            " |      \n",
            " |      Return the highest index in S where substring sub is found,\n",
            " |      such that sub is contained within S[start:end].  Optional\n",
            " |      arguments start and end are interpreted as in slice notation.\n",
            " |      \n",
            " |      Return -1 on failure.\n",
            " |  \n",
            " |  rindex(...)\n",
            " |      S.rindex(sub[, start[, end]]) -> int\n",
            " |      \n",
            " |      Return the highest index in S where substring sub is found,\n",
            " |      such that sub is contained within S[start:end].  Optional\n",
            " |      arguments start and end are interpreted as in slice notation.\n",
            " |      \n",
            " |      Raises ValueError when the substring is not found.\n",
            " |  \n",
            " |  rjust(self, width, fillchar=' ', /)\n",
            " |      Return a right-justified string of length width.\n",
            " |      \n",
            " |      Padding is done using the specified fill character (default is a space).\n",
            " |  \n",
            " |  rpartition(self, sep, /)\n",
            " |      Partition the string into three parts using the given separator.\n",
            " |      \n",
            " |      This will search for the separator in the string, starting at the end. If\n",
            " |      the separator is found, returns a 3-tuple containing the part before the\n",
            " |      separator, the separator itself, and the part after it.\n",
            " |      \n",
            " |      If the separator is not found, returns a 3-tuple containing two empty strings\n",
            " |      and the original string.\n",
            " |  \n",
            " |  rsplit(self, /, sep=None, maxsplit=-1)\n",
            " |      Return a list of the words in the string, using sep as the delimiter string.\n",
            " |      \n",
            " |        sep\n",
            " |          The delimiter according which to split the string.\n",
            " |          None (the default value) means split according to any whitespace,\n",
            " |          and discard empty strings from the result.\n",
            " |        maxsplit\n",
            " |          Maximum number of splits to do.\n",
            " |          -1 (the default value) means no limit.\n",
            " |      \n",
            " |      Splits are done starting at the end of the string and working to the front.\n",
            " |  \n",
            " |  rstrip(self, chars=None, /)\n",
            " |      Return a copy of the string with trailing whitespace removed.\n",
            " |      \n",
            " |      If chars is given and not None, remove characters in chars instead.\n",
            " |  \n",
            " |  split(self, /, sep=None, maxsplit=-1)\n",
            " |      Return a list of the words in the string, using sep as the delimiter string.\n",
            " |      \n",
            " |      sep\n",
            " |        The delimiter according which to split the string.\n",
            " |        None (the default value) means split according to any whitespace,\n",
            " |        and discard empty strings from the result.\n",
            " |      maxsplit\n",
            " |        Maximum number of splits to do.\n",
            " |        -1 (the default value) means no limit.\n",
            " |  \n",
            " |  splitlines(self, /, keepends=False)\n",
            " |      Return a list of the lines in the string, breaking at line boundaries.\n",
            " |      \n",
            " |      Line breaks are not included in the resulting list unless keepends is given and\n",
            " |      true.\n",
            " |  \n",
            " |  startswith(...)\n",
            " |      S.startswith(prefix[, start[, end]]) -> bool\n",
            " |      \n",
            " |      Return True if S starts with the specified prefix, False otherwise.\n",
            " |      With optional start, test S beginning at that position.\n",
            " |      With optional end, stop comparing S at that position.\n",
            " |      prefix can also be a tuple of strings to try.\n",
            " |  \n",
            " |  strip(self, chars=None, /)\n",
            " |      Return a copy of the string with leading and trailing whitespace removed.\n",
            " |      \n",
            " |      If chars is given and not None, remove characters in chars instead.\n",
            " |  \n",
            " |  swapcase(self, /)\n",
            " |      Convert uppercase characters to lowercase and lowercase characters to uppercase.\n",
            " |  \n",
            " |  title(self, /)\n",
            " |      Return a version of the string where each word is titlecased.\n",
            " |      \n",
            " |      More specifically, words start with uppercased characters and all remaining\n",
            " |      cased characters have lower case.\n",
            " |  \n",
            " |  translate(self, table, /)\n",
            " |      Replace each character in the string using the given translation table.\n",
            " |      \n",
            " |        table\n",
            " |          Translation table, which must be a mapping of Unicode ordinals to\n",
            " |          Unicode ordinals, strings, or None.\n",
            " |      \n",
            " |      The table must implement lookup/indexing via __getitem__, for instance a\n",
            " |      dictionary or list.  If this operation raises LookupError, the character is\n",
            " |      left untouched.  Characters mapped to None are deleted.\n",
            " |  \n",
            " |  upper(self, /)\n",
            " |      Return a copy of the string converted to uppercase.\n",
            " |  \n",
            " |  zfill(self, width, /)\n",
            " |      Pad a numeric string with zeros on the left, to fill a field of the given width.\n",
            " |      \n",
            " |      The string is never truncated.\n",
            " |  \n",
            " |  ----------------------------------------------------------------------\n",
            " |  Static methods defined here:\n",
            " |  \n",
            " |  __new__(*args, **kwargs) from builtins.type\n",
            " |      Create and return a new object.  See help(type) for accurate signature.\n",
            " |  \n",
            " |  maketrans(x, y=None, z=None, /)\n",
            " |      Return a translation table usable for str.translate().\n",
            " |      \n",
            " |      If there is only one argument, it must be a dictionary mapping Unicode\n",
            " |      ordinals (integers) or characters to Unicode ordinals, strings or None.\n",
            " |      Character keys will be then converted to ordinals.\n",
            " |      If there are two arguments, they must be strings of equal length, and\n",
            " |      in the resulting dictionary, each character in x will be mapped to the\n",
            " |      character at the same position in y. If there is a third argument, it\n",
            " |      must be a string, whose characters will be mapped to None in the result.\n",
            "\n"
          ]
        }
      ],
      "source": [
        "help(str)"
      ]
    },
    {
      "cell_type": "markdown",
      "metadata": {
        "id": "l5jLbftAQfiz"
      },
      "source": [
        "### 6.1.2 숫자 내장 함수"
      ]
    },
    {
      "cell_type": "markdown",
      "metadata": {
        "id": "tEhaUZbNXDWZ"
      },
      "source": [
        "#### abs()\n",
        "\n",
        "절댓값 반환"
      ]
    },
    {
      "cell_type": "code",
      "execution_count": null,
      "metadata": {
        "colab": {
          "base_uri": "https://localhost:8080/"
        },
        "id": "s_iN_1iKcrfl",
        "outputId": "7cb57fe1-f850-4132-c78d-7965a60b2d86"
      },
      "outputs": [
        {
          "name": "stdout",
          "output_type": "stream",
          "text": [
            "Help on built-in function abs in module builtins:\n",
            "\n",
            "abs(x, /)\n",
            "    Return the absolute value of the argument.\n",
            "\n"
          ]
        }
      ],
      "source": [
        "help(abs)"
      ]
    },
    {
      "cell_type": "markdown",
      "metadata": {
        "id": "BjCZxGumXDd9"
      },
      "source": [
        "#### divmod()\n",
        "\n",
        "전달된 두 인수를 나누어 몫과 나머지를 튜플로 반환"
      ]
    },
    {
      "cell_type": "code",
      "execution_count": 32,
      "metadata": {
        "colab": {
          "base_uri": "https://localhost:8080/"
        },
        "id": "A6ejPb-gcwzf",
        "outputId": "6dbacdf8-8fc9-4304-d263-6882b1258a49"
      },
      "outputs": [
        {
          "name": "stdout",
          "output_type": "stream",
          "text": [
            "Help on built-in function divmod in module builtins:\n",
            "\n",
            "divmod(x, y, /)\n",
            "    Return the tuple (x//y, x%y).  Invariant: div*y + mod == x.\n",
            "\n"
          ]
        }
      ],
      "source": [
        "help(divmod)"
      ]
    },
    {
      "cell_type": "code",
      "execution_count": null,
      "metadata": {},
      "outputs": [],
      "source": [
        "divmod(5, 2) #5를 2로 나눴을때, (몫, 나머지)로 반환"
      ]
    },
    {
      "cell_type": "markdown",
      "metadata": {
        "id": "bQhVEJWkXDh-"
      },
      "source": [
        "#### float()\n",
        "\n",
        "전달된 인수를 실수로 만들어 반환  \n",
        "전달된 인수가 없는 경우에는 0.0 반환"
      ]
    },
    {
      "cell_type": "code",
      "execution_count": null,
      "metadata": {
        "colab": {
          "base_uri": "https://localhost:8080/"
        },
        "id": "8tO1SCwLczdo",
        "outputId": "cbe75c99-abef-4616-ec9c-10769d16b8dd"
      },
      "outputs": [
        {
          "name": "stdout",
          "output_type": "stream",
          "text": [
            "Help on class float in module builtins:\n",
            "\n",
            "class float(object)\n",
            " |  float(x=0, /)\n",
            " |  \n",
            " |  Convert a string or number to a floating point number, if possible.\n",
            " |  \n",
            " |  Methods defined here:\n",
            " |  \n",
            " |  __abs__(self, /)\n",
            " |      abs(self)\n",
            " |  \n",
            " |  __add__(self, value, /)\n",
            " |      Return self+value.\n",
            " |  \n",
            " |  __bool__(self, /)\n",
            " |      self != 0\n",
            " |  \n",
            " |  __divmod__(self, value, /)\n",
            " |      Return divmod(self, value).\n",
            " |  \n",
            " |  __eq__(self, value, /)\n",
            " |      Return self==value.\n",
            " |  \n",
            " |  __float__(self, /)\n",
            " |      float(self)\n",
            " |  \n",
            " |  __floordiv__(self, value, /)\n",
            " |      Return self//value.\n",
            " |  \n",
            " |  __format__(self, format_spec, /)\n",
            " |      Formats the float according to format_spec.\n",
            " |  \n",
            " |  __ge__(self, value, /)\n",
            " |      Return self>=value.\n",
            " |  \n",
            " |  __getattribute__(self, name, /)\n",
            " |      Return getattr(self, name).\n",
            " |  \n",
            " |  __getnewargs__(self, /)\n",
            " |  \n",
            " |  __gt__(self, value, /)\n",
            " |      Return self>value.\n",
            " |  \n",
            " |  __hash__(self, /)\n",
            " |      Return hash(self).\n",
            " |  \n",
            " |  __int__(self, /)\n",
            " |      int(self)\n",
            " |  \n",
            " |  __le__(self, value, /)\n",
            " |      Return self<=value.\n",
            " |  \n",
            " |  __lt__(self, value, /)\n",
            " |      Return self<value.\n",
            " |  \n",
            " |  __mod__(self, value, /)\n",
            " |      Return self%value.\n",
            " |  \n",
            " |  __mul__(self, value, /)\n",
            " |      Return self*value.\n",
            " |  \n",
            " |  __ne__(self, value, /)\n",
            " |      Return self!=value.\n",
            " |  \n",
            " |  __neg__(self, /)\n",
            " |      -self\n",
            " |  \n",
            " |  __pos__(self, /)\n",
            " |      +self\n",
            " |  \n",
            " |  __pow__(self, value, mod=None, /)\n",
            " |      Return pow(self, value, mod).\n",
            " |  \n",
            " |  __radd__(self, value, /)\n",
            " |      Return value+self.\n",
            " |  \n",
            " |  __rdivmod__(self, value, /)\n",
            " |      Return divmod(value, self).\n",
            " |  \n",
            " |  __repr__(self, /)\n",
            " |      Return repr(self).\n",
            " |  \n",
            " |  __rfloordiv__(self, value, /)\n",
            " |      Return value//self.\n",
            " |  \n",
            " |  __rmod__(self, value, /)\n",
            " |      Return value%self.\n",
            " |  \n",
            " |  __rmul__(self, value, /)\n",
            " |      Return value*self.\n",
            " |  \n",
            " |  __round__(self, ndigits=None, /)\n",
            " |      Return the Integral closest to x, rounding half toward even.\n",
            " |      \n",
            " |      When an argument is passed, work like built-in round(x, ndigits).\n",
            " |  \n",
            " |  __rpow__(self, value, mod=None, /)\n",
            " |      Return pow(value, self, mod).\n",
            " |  \n",
            " |  __rsub__(self, value, /)\n",
            " |      Return value-self.\n",
            " |  \n",
            " |  __rtruediv__(self, value, /)\n",
            " |      Return value/self.\n",
            " |  \n",
            " |  __str__(self, /)\n",
            " |      Return str(self).\n",
            " |  \n",
            " |  __sub__(self, value, /)\n",
            " |      Return self-value.\n",
            " |  \n",
            " |  __truediv__(self, value, /)\n",
            " |      Return self/value.\n",
            " |  \n",
            " |  __trunc__(self, /)\n",
            " |      Return the Integral closest to x between 0 and x.\n",
            " |  \n",
            " |  as_integer_ratio(self, /)\n",
            " |      Return integer ratio.\n",
            " |      \n",
            " |      Return a pair of integers, whose ratio is exactly equal to the original float\n",
            " |      and with a positive denominator.\n",
            " |      \n",
            " |      Raise OverflowError on infinities and a ValueError on NaNs.\n",
            " |      \n",
            " |      >>> (10.0).as_integer_ratio()\n",
            " |      (10, 1)\n",
            " |      >>> (0.0).as_integer_ratio()\n",
            " |      (0, 1)\n",
            " |      >>> (-.25).as_integer_ratio()\n",
            " |      (-1, 4)\n",
            " |  \n",
            " |  conjugate(self, /)\n",
            " |      Return self, the complex conjugate of any float.\n",
            " |  \n",
            " |  hex(self, /)\n",
            " |      Return a hexadecimal representation of a floating-point number.\n",
            " |      \n",
            " |      >>> (-0.1).hex()\n",
            " |      '-0x1.999999999999ap-4'\n",
            " |      >>> 3.14159.hex()\n",
            " |      '0x1.921f9f01b866ep+1'\n",
            " |  \n",
            " |  is_integer(self, /)\n",
            " |      Return True if the float is an integer.\n",
            " |  \n",
            " |  ----------------------------------------------------------------------\n",
            " |  Class methods defined here:\n",
            " |  \n",
            " |  __getformat__(typestr, /) from builtins.type\n",
            " |      You probably don't want to use this function.\n",
            " |      \n",
            " |        typestr\n",
            " |          Must be 'double' or 'float'.\n",
            " |      \n",
            " |      It exists mainly to be used in Python's test suite.\n",
            " |      \n",
            " |      This function returns whichever of 'unknown', 'IEEE, big-endian' or 'IEEE,\n",
            " |      little-endian' best describes the format of floating point numbers used by the\n",
            " |      C type named by typestr.\n",
            " |  \n",
            " |  __set_format__(typestr, fmt, /) from builtins.type\n",
            " |      You probably don't want to use this function.\n",
            " |      \n",
            " |        typestr\n",
            " |          Must be 'double' or 'float'.\n",
            " |        fmt\n",
            " |          Must be one of 'unknown', 'IEEE, big-endian' or 'IEEE, little-endian',\n",
            " |          and in addition can only be one of the latter two if it appears to\n",
            " |          match the underlying C reality.\n",
            " |      \n",
            " |      It exists mainly to be used in Python's test suite.\n",
            " |      \n",
            " |      Override the automatic determination of C-level floating point type.\n",
            " |      This affects how floats are converted to and from binary strings.\n",
            " |  \n",
            " |  fromhex(string, /) from builtins.type\n",
            " |      Create a floating-point number from a hexadecimal string.\n",
            " |      \n",
            " |      >>> float.fromhex('0x1.ffffp10')\n",
            " |      2047.984375\n",
            " |      >>> float.fromhex('-0x1p-1074')\n",
            " |      -5e-324\n",
            " |  \n",
            " |  ----------------------------------------------------------------------\n",
            " |  Static methods defined here:\n",
            " |  \n",
            " |  __new__(*args, **kwargs) from builtins.type\n",
            " |      Create and return a new object.  See help(type) for accurate signature.\n",
            " |  \n",
            " |  ----------------------------------------------------------------------\n",
            " |  Data descriptors defined here:\n",
            " |  \n",
            " |  imag\n",
            " |      the imaginary part of a complex number\n",
            " |  \n",
            " |  real\n",
            " |      the real part of a complex number\n",
            "\n"
          ]
        }
      ],
      "source": [
        "help(float)"
      ]
    },
    {
      "cell_type": "markdown",
      "metadata": {
        "id": "AZ0XFG9jXDk6"
      },
      "source": [
        "#### int()\n",
        "\n",
        "전달된 인수를 정수로 만들어 반환  \n",
        "전달된 인수가 없는 경우에는 0 반환"
      ]
    },
    {
      "cell_type": "code",
      "execution_count": null,
      "metadata": {
        "colab": {
          "base_uri": "https://localhost:8080/"
        },
        "id": "fTfLW6kndB5b",
        "outputId": "adb2ec47-873c-4883-f387-31b2af91d215"
      },
      "outputs": [
        {
          "name": "stdout",
          "output_type": "stream",
          "text": [
            "Help on class int in module builtins:\n",
            "\n",
            "class int(object)\n",
            " |  int([x]) -> integer\n",
            " |  int(x, base=10) -> integer\n",
            " |  \n",
            " |  Convert a number or string to an integer, or return 0 if no arguments\n",
            " |  are given.  If x is a number, return x.__int__().  For floating point\n",
            " |  numbers, this truncates towards zero.\n",
            " |  \n",
            " |  If x is not a number or if base is given, then x must be a string,\n",
            " |  bytes, or bytearray instance representing an integer literal in the\n",
            " |  given base.  The literal can be preceded by '+' or '-' and be surrounded\n",
            " |  by whitespace.  The base defaults to 10.  Valid bases are 0 and 2-36.\n",
            " |  Base 0 means to interpret the base from the string as an integer literal.\n",
            " |  >>> int('0b100', base=0)\n",
            " |  4\n",
            " |  \n",
            " |  Methods defined here:\n",
            " |  \n",
            " |  __abs__(self, /)\n",
            " |      abs(self)\n",
            " |  \n",
            " |  __add__(self, value, /)\n",
            " |      Return self+value.\n",
            " |  \n",
            " |  __and__(self, value, /)\n",
            " |      Return self&value.\n",
            " |  \n",
            " |  __bool__(self, /)\n",
            " |      self != 0\n",
            " |  \n",
            " |  __ceil__(...)\n",
            " |      Ceiling of an Integral returns itself.\n",
            " |  \n",
            " |  __divmod__(self, value, /)\n",
            " |      Return divmod(self, value).\n",
            " |  \n",
            " |  __eq__(self, value, /)\n",
            " |      Return self==value.\n",
            " |  \n",
            " |  __float__(self, /)\n",
            " |      float(self)\n",
            " |  \n",
            " |  __floor__(...)\n",
            " |      Flooring an Integral returns itself.\n",
            " |  \n",
            " |  __floordiv__(self, value, /)\n",
            " |      Return self//value.\n",
            " |  \n",
            " |  __format__(self, format_spec, /)\n",
            " |      Default object formatter.\n",
            " |  \n",
            " |  __ge__(self, value, /)\n",
            " |      Return self>=value.\n",
            " |  \n",
            " |  __getattribute__(self, name, /)\n",
            " |      Return getattr(self, name).\n",
            " |  \n",
            " |  __getnewargs__(self, /)\n",
            " |  \n",
            " |  __gt__(self, value, /)\n",
            " |      Return self>value.\n",
            " |  \n",
            " |  __hash__(self, /)\n",
            " |      Return hash(self).\n",
            " |  \n",
            " |  __index__(self, /)\n",
            " |      Return self converted to an integer, if self is suitable for use as an index into a list.\n",
            " |  \n",
            " |  __int__(self, /)\n",
            " |      int(self)\n",
            " |  \n",
            " |  __invert__(self, /)\n",
            " |      ~self\n",
            " |  \n",
            " |  __le__(self, value, /)\n",
            " |      Return self<=value.\n",
            " |  \n",
            " |  __lshift__(self, value, /)\n",
            " |      Return self<<value.\n",
            " |  \n",
            " |  __lt__(self, value, /)\n",
            " |      Return self<value.\n",
            " |  \n",
            " |  __mod__(self, value, /)\n",
            " |      Return self%value.\n",
            " |  \n",
            " |  __mul__(self, value, /)\n",
            " |      Return self*value.\n",
            " |  \n",
            " |  __ne__(self, value, /)\n",
            " |      Return self!=value.\n",
            " |  \n",
            " |  __neg__(self, /)\n",
            " |      -self\n",
            " |  \n",
            " |  __or__(self, value, /)\n",
            " |      Return self|value.\n",
            " |  \n",
            " |  __pos__(self, /)\n",
            " |      +self\n",
            " |  \n",
            " |  __pow__(self, value, mod=None, /)\n",
            " |      Return pow(self, value, mod).\n",
            " |  \n",
            " |  __radd__(self, value, /)\n",
            " |      Return value+self.\n",
            " |  \n",
            " |  __rand__(self, value, /)\n",
            " |      Return value&self.\n",
            " |  \n",
            " |  __rdivmod__(self, value, /)\n",
            " |      Return divmod(value, self).\n",
            " |  \n",
            " |  __repr__(self, /)\n",
            " |      Return repr(self).\n",
            " |  \n",
            " |  __rfloordiv__(self, value, /)\n",
            " |      Return value//self.\n",
            " |  \n",
            " |  __rlshift__(self, value, /)\n",
            " |      Return value<<self.\n",
            " |  \n",
            " |  __rmod__(self, value, /)\n",
            " |      Return value%self.\n",
            " |  \n",
            " |  __rmul__(self, value, /)\n",
            " |      Return value*self.\n",
            " |  \n",
            " |  __ror__(self, value, /)\n",
            " |      Return value|self.\n",
            " |  \n",
            " |  __round__(...)\n",
            " |      Rounding an Integral returns itself.\n",
            " |      Rounding with an ndigits argument also returns an integer.\n",
            " |  \n",
            " |  __rpow__(self, value, mod=None, /)\n",
            " |      Return pow(value, self, mod).\n",
            " |  \n",
            " |  __rrshift__(self, value, /)\n",
            " |      Return value>>self.\n",
            " |  \n",
            " |  __rshift__(self, value, /)\n",
            " |      Return self>>value.\n",
            " |  \n",
            " |  __rsub__(self, value, /)\n",
            " |      Return value-self.\n",
            " |  \n",
            " |  __rtruediv__(self, value, /)\n",
            " |      Return value/self.\n",
            " |  \n",
            " |  __rxor__(self, value, /)\n",
            " |      Return value^self.\n",
            " |  \n",
            " |  __sizeof__(self, /)\n",
            " |      Returns size in memory, in bytes.\n",
            " |  \n",
            " |  __str__(self, /)\n",
            " |      Return str(self).\n",
            " |  \n",
            " |  __sub__(self, value, /)\n",
            " |      Return self-value.\n",
            " |  \n",
            " |  __truediv__(self, value, /)\n",
            " |      Return self/value.\n",
            " |  \n",
            " |  __trunc__(...)\n",
            " |      Truncating an Integral returns itself.\n",
            " |  \n",
            " |  __xor__(self, value, /)\n",
            " |      Return self^value.\n",
            " |  \n",
            " |  bit_length(self, /)\n",
            " |      Number of bits necessary to represent self in binary.\n",
            " |      \n",
            " |      >>> bin(37)\n",
            " |      '0b100101'\n",
            " |      >>> (37).bit_length()\n",
            " |      6\n",
            " |  \n",
            " |  conjugate(...)\n",
            " |      Returns self, the complex conjugate of any int.\n",
            " |  \n",
            " |  to_bytes(self, /, length, byteorder, *, signed=False)\n",
            " |      Return an array of bytes representing an integer.\n",
            " |      \n",
            " |      length\n",
            " |        Length of bytes object to use.  An OverflowError is raised if the\n",
            " |        integer is not representable with the given number of bytes.\n",
            " |      byteorder\n",
            " |        The byte order used to represent the integer.  If byteorder is 'big',\n",
            " |        the most significant byte is at the beginning of the byte array.  If\n",
            " |        byteorder is 'little', the most significant byte is at the end of the\n",
            " |        byte array.  To request the native byte order of the host system, use\n",
            " |        `sys.byteorder' as the byte order value.\n",
            " |      signed\n",
            " |        Determines whether two's complement is used to represent the integer.\n",
            " |        If signed is False and a negative integer is given, an OverflowError\n",
            " |        is raised.\n",
            " |  \n",
            " |  ----------------------------------------------------------------------\n",
            " |  Class methods defined here:\n",
            " |  \n",
            " |  from_bytes(bytes, byteorder, *, signed=False) from builtins.type\n",
            " |      Return the integer represented by the given array of bytes.\n",
            " |      \n",
            " |      bytes\n",
            " |        Holds the array of bytes to convert.  The argument must either\n",
            " |        support the buffer protocol or be an iterable object producing bytes.\n",
            " |        Bytes and bytearray are examples of built-in objects that support the\n",
            " |        buffer protocol.\n",
            " |      byteorder\n",
            " |        The byte order used to represent the integer.  If byteorder is 'big',\n",
            " |        the most significant byte is at the beginning of the byte array.  If\n",
            " |        byteorder is 'little', the most significant byte is at the end of the\n",
            " |        byte array.  To request the native byte order of the host system, use\n",
            " |        `sys.byteorder' as the byte order value.\n",
            " |      signed\n",
            " |        Indicates whether two's complement is used to represent the integer.\n",
            " |  \n",
            " |  ----------------------------------------------------------------------\n",
            " |  Static methods defined here:\n",
            " |  \n",
            " |  __new__(*args, **kwargs) from builtins.type\n",
            " |      Create and return a new object.  See help(type) for accurate signature.\n",
            " |  \n",
            " |  ----------------------------------------------------------------------\n",
            " |  Data descriptors defined here:\n",
            " |  \n",
            " |  denominator\n",
            " |      the denominator of a rational number in lowest terms\n",
            " |  \n",
            " |  imag\n",
            " |      the imaginary part of a complex number\n",
            " |  \n",
            " |  numerator\n",
            " |      the numerator of a rational number in lowest terms\n",
            " |  \n",
            " |  real\n",
            " |      the real part of a complex number\n",
            "\n"
          ]
        }
      ],
      "source": [
        "help(int)"
      ]
    },
    {
      "cell_type": "markdown",
      "metadata": {
        "id": "OOlbiCnCXDoG"
      },
      "source": [
        "#### max()\n",
        "\n",
        "전달된 인수 중 가장 큰 값 반환"
      ]
    },
    {
      "cell_type": "code",
      "execution_count": null,
      "metadata": {
        "colab": {
          "base_uri": "https://localhost:8080/"
        },
        "id": "_TVpXLHIdI5Q",
        "outputId": "f1201c84-7950-4db1-bc96-5c5e946b2a35"
      },
      "outputs": [
        {
          "name": "stdout",
          "output_type": "stream",
          "text": [
            "Help on built-in function max in module builtins:\n",
            "\n",
            "max(...)\n",
            "    max(iterable, *[, default=obj, key=func]) -> value\n",
            "    max(arg1, arg2, *args, *[, key=func]) -> value\n",
            "    \n",
            "    With a single iterable argument, return its biggest item. The\n",
            "    default keyword-only argument specifies an object to return if\n",
            "    the provided iterable is empty.\n",
            "    With two or more arguments, return the largest argument.\n",
            "\n"
          ]
        }
      ],
      "source": [
        "help(max)"
      ]
    },
    {
      "cell_type": "markdown",
      "metadata": {},
      "source": [
        "<!-- max(컬렉션) -> 컬렉션에서 최고값을 반환 -->"
      ]
    },
    {
      "cell_type": "code",
      "execution_count": 40,
      "metadata": {},
      "outputs": [
        {
          "data": {
            "text/plain": [
              "5"
            ]
          },
          "execution_count": 40,
          "metadata": {},
          "output_type": "execute_result"
        }
      ],
      "source": [
        "max(\"12345\")"
      ]
    },
    {
      "cell_type": "markdown",
      "metadata": {
        "id": "K7QUzXmSXDrI"
      },
      "source": [
        "#### min()\n",
        "\n",
        "전달된 인수 중 가장 작은 값 반환"
      ]
    },
    {
      "cell_type": "code",
      "execution_count": null,
      "metadata": {
        "colab": {
          "base_uri": "https://localhost:8080/"
        },
        "id": "MK6SxarDdOYh",
        "outputId": "024a7f50-f68a-4092-8084-62ee12979247"
      },
      "outputs": [
        {
          "name": "stdout",
          "output_type": "stream",
          "text": [
            "Help on built-in function min in module builtins:\n",
            "\n",
            "min(...)\n",
            "    min(iterable, *[, default=obj, key=func]) -> value\n",
            "    min(arg1, arg2, *args, *[, key=func]) -> value\n",
            "    \n",
            "    With a single iterable argument, return its smallest item. The\n",
            "    default keyword-only argument specifies an object to return if\n",
            "    the provided iterable is empty.\n",
            "    With two or more arguments, return the smallest argument.\n",
            "\n"
          ]
        }
      ],
      "source": [
        "help(min)"
      ]
    },
    {
      "cell_type": "code",
      "execution_count": null,
      "metadata": {},
      "outputs": [],
      "source": []
    },
    {
      "cell_type": "markdown",
      "metadata": {
        "id": "ypSs_IwSXDuK"
      },
      "source": [
        "#### pow()\n",
        "\n",
        "전달된 두 인수의 거듭제곱 반환 (**와 동일)"
      ]
    },
    {
      "cell_type": "code",
      "execution_count": null,
      "metadata": {
        "colab": {
          "base_uri": "https://localhost:8080/"
        },
        "id": "3JpQLBezdTsd",
        "outputId": "035f1106-1357-4370-b881-90c095e5fc8c"
      },
      "outputs": [
        {
          "name": "stdout",
          "output_type": "stream",
          "text": [
            "Help on built-in function pow in module builtins:\n",
            "\n",
            "pow(x, y, z=None, /)\n",
            "    Equivalent to x**y (with two arguments) or x**y % z (with three arguments)\n",
            "    \n",
            "    Some types, such as ints, are able to use a more efficient algorithm when\n",
            "    invoked using the three argument form.\n",
            "\n"
          ]
        }
      ],
      "source": [
        "help(pow)\n",
        "\n"
      ]
    },
    {
      "cell_type": "code",
      "execution_count": 41,
      "metadata": {},
      "outputs": [
        {
          "data": {
            "text/plain": [
              "8"
            ]
          },
          "execution_count": 41,
          "metadata": {},
          "output_type": "execute_result"
        }
      ],
      "source": [
        "pow(2, 3)"
      ]
    },
    {
      "cell_type": "markdown",
      "metadata": {
        "id": "_a-nIgvVXDxH"
      },
      "source": [
        "#### round()\n",
        "\n",
        "전달된 인수를 이용해 반올림값 반환  "
      ]
    },
    {
      "cell_type": "code",
      "execution_count": null,
      "metadata": {
        "colab": {
          "base_uri": "https://localhost:8080/"
        },
        "id": "7tVHc-h-dWtJ",
        "outputId": "6c406fc0-a2de-4df5-a7a0-859493f8a5dd"
      },
      "outputs": [
        {
          "name": "stdout",
          "output_type": "stream",
          "text": [
            "Help on built-in function round in module builtins:\n",
            "\n",
            "round(number, ndigits=None)\n",
            "    Round a number to a given precision in decimal digits.\n",
            "    \n",
            "    The return value is an integer if ndigits is omitted or None.  Otherwise\n",
            "    the return value has the same type as the number.  ndigits may be negative.\n",
            "\n"
          ]
        }
      ],
      "source": [
        "help(round)"
      ]
    },
    {
      "cell_type": "code",
      "execution_count": 44,
      "metadata": {},
      "outputs": [
        {
          "data": {
            "text/plain": [
              "3.1"
            ]
          },
          "execution_count": 44,
          "metadata": {},
          "output_type": "execute_result"
        }
      ],
      "source": [
        "round(3.14)\n",
        "\n",
        "round(3.14, 2)\n",
        "\n",
        "round(3.14, 1)"
      ]
    },
    {
      "cell_type": "markdown",
      "metadata": {
        "id": "yFvj2KWnXD0W"
      },
      "source": [
        "#### sum()\n",
        "\n",
        "전달된 리스트나 튜플과 같은 반복가능객체의 합계 반환  \n",
        "숫자가 아닌 값을 전달하면 에러 발생"
      ]
    },
    {
      "cell_type": "code",
      "execution_count": null,
      "metadata": {
        "colab": {
          "base_uri": "https://localhost:8080/"
        },
        "id": "1nRQl0C1dZrD",
        "outputId": "9246da0e-11bb-4b59-c9d6-75ee1d59d6e0"
      },
      "outputs": [
        {
          "name": "stdout",
          "output_type": "stream",
          "text": [
            "Help on built-in function sum in module builtins:\n",
            "\n",
            "sum(iterable, start=0, /)\n",
            "    Return the sum of a 'start' value (default: 0) plus an iterable of numbers\n",
            "    \n",
            "    When the iterable is empty, return the start value.\n",
            "    This function is intended specifically for use with numeric values and may\n",
            "    reject non-numeric types.\n",
            "\n"
          ]
        }
      ],
      "source": [
        "help(sum)"
      ]
    },
    {
      "cell_type": "code",
      "execution_count": null,
      "metadata": {},
      "outputs": [],
      "source": [
        "# sum()은 컬렉션을 인수로 받는다. 고로 sum(2,3,4,5)는 동작하지 않는다."
      ]
    },
    {
      "cell_type": "markdown",
      "metadata": {
        "id": "Xf81fJaCQnMD"
      },
      "source": [
        "### 6.1.3 시퀀스 내장 함수"
      ]
    },
    {
      "cell_type": "markdown",
      "metadata": {
        "id": "gFN8-I4HWz9Z"
      },
      "source": [
        "#### enumerate()\n",
        "\n",
        "리스트에 저장된 요소와 해당 요소의 인덱스가 튜플 형태로 추출"
      ]
    },
    {
      "cell_type": "code",
      "execution_count": 45,
      "metadata": {},
      "outputs": [
        {
          "name": "stdout",
          "output_type": "stream",
          "text": [
            "0 h\n",
            "1 e\n",
            "2 l\n",
            "3 l\n",
            "4 o\n",
            "5  \n",
            "6 w\n",
            "7 o\n",
            "8 r\n",
            "9 l\n",
            "10 d\n"
          ]
        }
      ],
      "source": [
        "\n",
        "for i, char in enumerate('hello world'):\n",
        "    print(i, char)\n",
        "\n",
        "#enumerate 활용법"
      ]
    },
    {
      "cell_type": "markdown",
      "metadata": {
        "id": "83DR7n6fW0Eb"
      },
      "source": [
        "#### range()\n",
        "\n",
        "range() 함수는 전달된 인수값에 따라 시퀀스 자료형을 생성하는 함수  \n",
        "자료형은 'range'이기 때문에 list나 tuple 함수를 통해 변환해서 결과 확인  \n",
        "\n",
        "\n",
        "*  range(stop)\n",
        "*  range(start, stop)\n",
        "*  range(start, stop, step)\n",
        "\n"
      ]
    },
    {
      "cell_type": "markdown",
      "metadata": {
        "id": "D2cBOXtZW0H5"
      },
      "source": [
        "#### len()\n",
        "\n",
        "함수에 전달된 객체의 길이(항목 수)를 반환하는 함수"
      ]
    },
    {
      "cell_type": "code",
      "execution_count": null,
      "metadata": {
        "colab": {
          "base_uri": "https://localhost:8080/"
        },
        "id": "dpzT6LiEdlSm",
        "outputId": "70d8bc28-bc1d-4d46-be31-db71d84e3ae4"
      },
      "outputs": [
        {
          "name": "stdout",
          "output_type": "stream",
          "text": [
            "Help on built-in function len in module builtins:\n",
            "\n",
            "len(obj, /)\n",
            "    Return the number of items in a container.\n",
            "\n"
          ]
        }
      ],
      "source": [
        "help(len)"
      ]
    },
    {
      "cell_type": "code",
      "execution_count": null,
      "metadata": {},
      "outputs": [],
      "source": []
    },
    {
      "cell_type": "markdown",
      "metadata": {
        "id": "g9FvNgcjW0LO"
      },
      "source": [
        "#### sorted()\n",
        "\n",
        "전달된 반복가능객체의 오름차순 정렬 결과를 반환  \n",
        "reverse=True 옵션을 통해 내림차순 결과 반환"
      ]
    },
    {
      "cell_type": "code",
      "execution_count": null,
      "metadata": {
        "colab": {
          "base_uri": "https://localhost:8080/"
        },
        "id": "EI9DgoVhdn56",
        "outputId": "4e696073-bba0-43d5-f694-6e5fdbbb5e50"
      },
      "outputs": [
        {
          "name": "stdout",
          "output_type": "stream",
          "text": [
            "Help on built-in function sorted in module builtins:\n",
            "\n",
            "sorted(iterable, /, *, key=None, reverse=False)\n",
            "    Return a new list containing all items from the iterable in ascending order.\n",
            "    \n",
            "    A custom key function can be supplied to customize the sort order, and the\n",
            "    reverse flag can be set to request the result in descending order.\n",
            "\n"
          ]
        }
      ],
      "source": [
        "help(sorted)"
      ]
    },
    {
      "cell_type": "code",
      "execution_count": null,
      "metadata": {},
      "outputs": [],
      "source": []
    },
    {
      "cell_type": "markdown",
      "metadata": {
        "id": "Z5BmC7YfW0OF"
      },
      "source": [
        "#### zip()\n",
        "\n",
        "여러 반복가능객체 각 요소를 튜플로 묶어 반환하는 함수  \n",
        "전달된 객체의 길이가 서로 다르면 길이가 짧은 반복가능 객체를 기준으로 동작  "
      ]
    },
    {
      "cell_type": "code",
      "execution_count": 46,
      "metadata": {
        "colab": {
          "base_uri": "https://localhost:8080/"
        },
        "id": "d60knpB2d-n1",
        "outputId": "96e48377-1748-4c35-d045-b725e8bacbb5"
      },
      "outputs": [
        {
          "name": "stdout",
          "output_type": "stream",
          "text": [
            "Help on class zip in module builtins:\n",
            "\n",
            "class zip(object)\n",
            " |  zip(*iterables, strict=False) --> Yield tuples until an input is exhausted.\n",
            " |\n",
            " |     >>> list(zip('abcdefg', range(3), range(4)))\n",
            " |     [('a', 0, 0), ('b', 1, 1), ('c', 2, 2)]\n",
            " |\n",
            " |  The zip object yields n-length tuples, where n is the number of iterables\n",
            " |  passed as positional arguments to zip().  The i-th element in every tuple\n",
            " |  comes from the i-th iterable argument to zip().  This continues until the\n",
            " |  shortest argument is exhausted.\n",
            " |\n",
            " |  If strict is true and one of the arguments is exhausted before the others,\n",
            " |  raise a ValueError.\n",
            " |\n",
            " |  Methods defined here:\n",
            " |\n",
            " |  __getattribute__(self, name, /)\n",
            " |      Return getattr(self, name).\n",
            " |\n",
            " |  __iter__(self, /)\n",
            " |      Implement iter(self).\n",
            " |\n",
            " |  __next__(self, /)\n",
            " |      Implement next(self).\n",
            " |\n",
            " |  __reduce__(...)\n",
            " |      Return state information for pickling.\n",
            " |\n",
            " |  __setstate__(...)\n",
            " |      Set state information for unpickling.\n",
            " |\n",
            " |  ----------------------------------------------------------------------\n",
            " |  Static methods defined here:\n",
            " |\n",
            " |  __new__(*args, **kwargs)\n",
            " |      Create and return a new object.  See help(type) for accurate signature.\n",
            "\n"
          ]
        },
        {
          "data": {
            "text/plain": [
              "[(0, 'h'), (1, 'e'), (2, 'l'), (3, 'l'), (4, 'o')]"
            ]
          },
          "execution_count": 46,
          "metadata": {},
          "output_type": "execute_result"
        }
      ],
      "source": [
        "help(zip)\n"
      ]
    },
    {
      "cell_type": "code",
      "execution_count": 49,
      "metadata": {},
      "outputs": [
        {
          "data": {
            "text/plain": [
              "[(0, 'h', '가'), (1, 'e', '나'), (2, 'l', '다'), (3, 'l', '라'), (4, 'o', '마')]"
            ]
          },
          "execution_count": 49,
          "metadata": {},
          "output_type": "execute_result"
        }
      ],
      "source": [
        "list(zip((0, 1, 2, 3, 4), \"hello\", \"가나다라마\"))\n",
        "\n"
      ]
    },
    {
      "cell_type": "markdown",
      "metadata": {},
      "source": [
        "#### map"
      ]
    },
    {
      "cell_type": "code",
      "execution_count": 61,
      "metadata": {},
      "outputs": [
        {
          "data": {
            "text/plain": [
              "[1, 234, 567]"
            ]
          },
          "execution_count": 61,
          "metadata": {},
          "output_type": "execute_result"
        }
      ],
      "source": [
        "user_input = input().split()\n",
        "\n",
        "list(map(int, user_input))\n",
        "[int(item) for item in user_input]"
      ]
    },
    {
      "cell_type": "code",
      "execution_count": 64,
      "metadata": {},
      "outputs": [
        {
          "name": "stdout",
          "output_type": "stream",
          "text": [
            "['asdasd']\n",
            "['asdasd']\n",
            "['asdasd']\n",
            "['asdasd']\n",
            "['asdasd']\n",
            "['asdasd']\n",
            "['asdasd']\n",
            "['asdasd']\n",
            "['asdasd']\n",
            "['asdasd']\n"
          ]
        },
        {
          "data": {
            "text/plain": [
              "9"
            ]
          },
          "execution_count": 64,
          "metadata": {},
          "output_type": "execute_result"
        }
      ],
      "source": [
        "[len(item) for item in user_input]\n"
      ]
    },
    {
      "cell_type": "markdown",
      "metadata": {
        "id": "hVuOvZ9JQ18C"
      },
      "source": [
        "## 6.2 사용자 함수\n",
        "\n",
        "\n",
        "\n",
        "* 사용자 함수란 사용자가 직접 만든 함수  \n",
        "* 내장 함수는 이미 만들어져 있어 사용법대로 사용하면 되지만,  \n",
        "모든 일을 내장 함수를 이용하여 처리 불가능  \n",
        "<br>\n",
        "<br>\n",
        "\n",
        "사용자 함수를 구현하기 위해 다음의 용어 정리 필요\n",
        "* 함수 정의(define): 사용자 함수를  새로 만드는 것\n",
        "* 인수(argument): 사용자 함수에 전달할 입력\n",
        "* 매개변수(parameter): 인수를 받아서 저장하는 변수\n",
        "* 반환값(return): 사용자 함수의 출력\n",
        "* 함수 호출(call): 만들어진 사용자 함수를 실제로 사용  \n",
        "\n",
        "<br>\n",
        "<br>\n",
        "\n",
        "기본적 함수 정의는 다음과 같음  \n",
        "def 함수 이름(매개변수):  \n",
        "&nbsp;&nbsp;&nbsp;&nbsp;본문  \n",
        "&nbsp;&nbsp;&nbsp;&nbsp;return 반환값\n",
        "<br>\n",
        "<br>\n",
        "\n",
        "함수 호출은 다음의 4가지 경우 존재\n",
        "*  인수: x, 반환값: x  \n",
        "   함수 이름()\n",
        "*  인수: O, 반환값: x  \n",
        "   함수 이름(인수)\n",
        "*  인수: x, 반환값: O  \n",
        "   변수 = 함수 이름()\n",
        "*  인수: O, 반환값: O  \n",
        "   변수 = 함수 이름(인수)\n",
        "\n",
        "\n",
        "\n",
        "\n"
      ]
    },
    {
      "cell_type": "markdown",
      "metadata": {
        "id": "_y96HQYzSavc"
      },
      "source": [
        "### 6.2.1 인수와 매개변수"
      ]
    },
    {
      "cell_type": "markdown",
      "metadata": {
        "id": "jC1VQCY1ZYoS"
      },
      "source": [
        "#### 6.2.1.1 인수가 있는 함수\n",
        "\n",
        "함수에 전달되는 값이 존재하는 경우"
      ]
    },
    {
      "cell_type": "code",
      "execution_count": 66,
      "metadata": {},
      "outputs": [
        {
          "name": "stdout",
          "output_type": "stream",
          "text": [
            "내 이름은 jone이고, 20살 입니다.\n"
          ]
        }
      ],
      "source": [
        "def introduct(name, age):\n",
        "    print(f\"내 이름은 {name}이고, {age}살 입니다.\")\n",
        "\n",
        "\n",
        "introduct(\"jone\", 20)\n",
        "\n"
      ]
    },
    {
      "cell_type": "markdown",
      "metadata": {
        "id": "b3M5FdPfZsgm"
      },
      "source": [
        "#### 6.2.1.2 가변 매개변수\n",
        "\n",
        "함수로 전달해야 하는 인수의 개수가 정해지지 않아도  \n",
        "매개변수 선언 가능한데 이를 가변 매개변수라고 함  \n",
        "\n",
        "가변 매개변수를 만드는 키워드는 애스터리스크(*)이며 개수에 따른 차이가 있음\n",
        "\n",
        "1. def show(*args):  \n",
        "&nbsp;&nbsp;&nbsp;&nbsp;for item in args:  \n",
        "&nbsp;&nbsp;&nbsp;&nbsp;&nbsp;&nbsp;&nbsp;&nbsp;print(item)  \n",
        "\n",
        "&nbsp;&nbsp;&nbsp;&nbsp;&nbsp;&nbsp;&nbsp;&nbsp;&nbsp;&nbsp;show('happy', 'birthday')  \n",
        "&nbsp;&nbsp;&nbsp;&nbsp;&nbsp;&nbsp;&nbsp;&nbsp;&nbsp;&nbsp;-> 인자를 튜플로 전달\n",
        "\n",
        "2. def show(**kwargs):  \n",
        "&nbsp;&nbsp;&nbsp;&nbsp;for key, item in args:  \n",
        "&nbsp;&nbsp;&nbsp;&nbsp;&nbsp;&nbsp;&nbsp;&nbsp;print(key, item)\n",
        "\n",
        "&nbsp;&nbsp;&nbsp;&nbsp;&nbsp;&nbsp;&nbsp;&nbsp;&nbsp;&nbsp;show(a=1, b=2)  \n",
        "&nbsp;&nbsp;&nbsp;&nbsp;&nbsp;&nbsp;&nbsp;&nbsp;&nbsp;&nbsp;-> 인자를 딕셔너리로 전달\n",
        "\n"
      ]
    },
    {
      "cell_type": "code",
      "execution_count": 76,
      "metadata": {},
      "outputs": [
        {
          "name": "stdout",
          "output_type": "stream",
          "text": [
            "10 5.0 6 4\n"
          ]
        }
      ],
      "source": [
        "#매개변수 앞에 *를 애스터리스크라고 함\n",
        "\n",
        "\n",
        "def calculator(*args):\n",
        "    return sum(args), sum(args)/len(args), max(args), min(args)\n",
        "\n",
        "\n",
        "a, b, c, m = calculator(4, 6)\n",
        "\n",
        "print(a,b,c,m)\n"
      ]
    },
    {
      "cell_type": "code",
      "execution_count": 86,
      "metadata": {},
      "outputs": [],
      "source": [
        "def test(**kwargs):\n",
        "    print(kwargs)\n",
        "\n",
        "    for key, value in kwargs.items():\n",
        "        print(key, value)"
      ]
    },
    {
      "cell_type": "code",
      "execution_count": 88,
      "metadata": {},
      "outputs": [
        {
          "name": "stdout",
          "output_type": "stream",
          "text": [
            "{'a': 1, 'b': 2, 'c': 3}\n",
            "a 1\n",
            "b 2\n",
            "c 3\n",
            "a\n",
            "b\n",
            "c\n"
          ]
        }
      ],
      "source": [
        "test(a = 1, b= 2, c= 3)\n",
        "\n",
        "\n",
        "a = {'a' : 1, 'b' : 2, 'c' : 3}\n",
        "for i in a:\n",
        "    print(i)\n",
        "\n",
        "\n",
        "# def 이름(arg1, arg2, *args, **kwargs) 이게 함수에 풀세트"
      ]
    },
    {
      "cell_type": "code",
      "execution_count": 74,
      "metadata": {},
      "outputs": [],
      "source": [
        "def calculator(arg1, arg2, *args):\n",
        "    #안녕하세요\n",
        "    '''\n",
        "    안녕하세요\n",
        "    '''\n",
        "    total = (arg1, arg2)\n",
        "    total += args\n",
        "    print(args)\n",
        "    return sum(total), sum(total)/len(total), max(total), min(total)"
      ]
    },
    {
      "cell_type": "markdown",
      "metadata": {
        "id": "YmbNSYrybptO"
      },
      "source": [
        "#### 6.2.1.3 디폴트 매개변수\n",
        "\n",
        "매개변수로 전달되는 인수가 없는 경우에 기본적으로 사용할 수 있도록  \n",
        "매개변수에 기본값 설정 가능."
      ]
    },
    {
      "cell_type": "code",
      "execution_count": 75,
      "metadata": {},
      "outputs": [
        {
          "name": "stdout",
          "output_type": "stream",
          "text": [
            "Help on function calculator in module __main__:\n",
            "\n",
            "calculator(arg1, arg2, *args)\n",
            "    안녕하세요\n",
            "\n"
          ]
        }
      ],
      "source": [
        "# calculator(1, 2, 3, 4, 5)\n",
        "help(calculator)\n",
        "\n",
        "\n",
        "def calculator(arg1 = 0, arg2 = 0):\n",
        "    print(\"arara\")\n",
        "\n",
        "    #디폴트 매개변수는 함수선언할때 함수에 값을 미리 지정할 수 있다."
      ]
    },
    {
      "cell_type": "markdown",
      "metadata": {
        "id": "BeOeRw1gSa0U"
      },
      "source": [
        "### 6.2.2 반환값"
      ]
    },
    {
      "cell_type": "markdown",
      "metadata": {
        "id": "owxpRKI1Yj2I"
      },
      "source": [
        "#### 6.2.2.1 반환값이 있는 함수\n",
        "\n",
        "함수 내에서 return을 통해 값을 반환할 경우"
      ]
    },
    {
      "cell_type": "code",
      "execution_count": null,
      "metadata": {},
      "outputs": [],
      "source": []
    },
    {
      "cell_type": "markdown",
      "metadata": {
        "id": "zK3vmp0qYj6k"
      },
      "source": [
        "#### 6.2.2.2 다중 반환\n",
        "\n",
        "파이썬은 여러 개의 반환값도 처리 가능  \n",
        "다수의 반환값이 반환될 때는 튜플로 반환"
      ]
    },
    {
      "cell_type": "code",
      "execution_count": null,
      "metadata": {},
      "outputs": [],
      "source": [
        "#리턴은 절대 두개 이상일 수가 없다. 여러개를 반환한다면 튜플로 묶여서 반환이 되어서 총 하나로 반환된다."
      ]
    },
    {
      "cell_type": "markdown",
      "metadata": {
        "id": "5dl7e06LYj9j"
      },
      "source": [
        "#### 6.2.2.3 함수 종료를 위한 return\n",
        "\n",
        "return은 함수를 끝마치는 용도로도 사용"
      ]
    },
    {
      "cell_type": "code",
      "execution_count": 90,
      "metadata": {},
      "outputs": [],
      "source": [
        "def pay(money):\n",
        "    if money <= 0: # 말이 안되는 조건들을 위에 올리고 return 떄리는것을 early return이라고 한다.\n",
        "        print('잔액 부족')\n",
        "        return\n",
        "    \n",
        "\n",
        "    print('지불 완료')"
      ]
    },
    {
      "cell_type": "code",
      "execution_count": 108,
      "metadata": {},
      "outputs": [],
      "source": [
        "def grade(n):\n",
        "    if not n.isdecimal():\n",
        "        print(\"숫자를 입력하세요\")\n",
        "        return\n",
        "    n = int(n)\n",
        "    if n < 0 or n > 100:\n",
        "        return\n",
        "    else:\n",
        "        if n >= 90:\n",
        "            print('A')\n",
        "        elif n >= 80:\n",
        "            print('B')\n",
        "        elif n >= 70:\n",
        "            print('C')\n",
        "        elif n >= 60:\n",
        "            print('D')\n",
        "        else:\n",
        "            print('F')\n",
        "    "
      ]
    },
    {
      "cell_type": "code",
      "execution_count": 145,
      "metadata": {},
      "outputs": [
        {
          "name": "stdout",
          "output_type": "stream",
          "text": [
            "1\n"
          ]
        },
        {
          "data": {
            "text/plain": [
              "<function str.isdecimal()>"
            ]
          },
          "execution_count": 145,
          "metadata": {},
          "output_type": "execute_result"
        }
      ],
      "source": [
        "# user_input = input()\n",
        "# grade(user_input)\n",
        "\n",
        "\n",
        "s = '-100'\n",
        "if s.isdecimal:\n",
        "    print(1)\n",
        "\n",
        "\n",
        "s.isdecimal\n",
        "\n",
        "\n"
      ]
    },
    {
      "cell_type": "markdown",
      "metadata": {
        "id": "PLGoJWV-Sa3g"
      },
      "source": [
        "### 6.2.3 지역변수와 전역변수\n",
        "\n",
        "지역변수: 함수 내부에서 선언한 변수  \n",
        "&nbsp;&nbsp;&nbsp;&nbsp;&nbsp;&nbsp;&nbsp;&nbsp;&nbsp;&nbsp;&nbsp;&nbsp;&nbsp;&nbsp;&nbsp;&nbsp;&nbsp;&nbsp;함수 외부에서는 지역변수에 접근 할 수 없음.\n",
        "\n",
        "전역변수: 함수 외부에서 선언한 변수  \n",
        "&nbsp;&nbsp;&nbsp;&nbsp;&nbsp;&nbsp;&nbsp;&nbsp;&nbsp;&nbsp;&nbsp;&nbsp;&nbsp;&nbsp;&nbsp;&nbsp;&nbsp;&nbsp;함수 내외부 모두에서 접근 가능  \n",
        "\n",
        "전역변수는 코드 가독성을 떨어뜨리는 요인으로 가급적 삼가는 게 좋음."
      ]
    },
    {
      "cell_type": "code",
      "execution_count": 125,
      "metadata": {},
      "outputs": [
        {
          "name": "stdout",
          "output_type": "stream",
          "text": [
            "10\n",
            "10\n"
          ]
        }
      ],
      "source": [
        "a = 0\n",
        "def test():\n",
        "    global a\n",
        "    a = 10\n",
        "    print(a)\n",
        "\n",
        "test()\n",
        "print(a)\n",
        "\n",
        "#할당된 전역변수를 함수에서 사용하고, 그 값을 변경할때 global을 활용하면 함수내부뿐 아니라 전역에서 변수값을 바꿀 수 있다."
      ]
    },
    {
      "cell_type": "code",
      "execution_count": 132,
      "metadata": {},
      "outputs": [
        {
          "data": {
            "text/plain": [
              "['A', 'S', 'D']"
            ]
          },
          "execution_count": 132,
          "metadata": {},
          "output_type": "execute_result"
        }
      ],
      "source": [
        "# lower, upper 사용하지 않는다.\n",
        "\n",
        "def change(font: str) -> str: # 매개변수의 자료형과 반환값의 자료형을 나타내는 방법\n",
        "    lis = []\n",
        "    for char in font:\n",
        "        if char.isdecimal():\n",
        "            return\n",
        "        \n",
        "        if 65 <= ord(char) <= 90:\n",
        "            lis.append((chr(ord(char)+32)))\n",
        "        elif 97 <= ord(char) <= 122:\n",
        "            lis.append((chr(ord(char)-32)))\n",
        "    return lis\n",
        "\n",
        "user_input = input()\n",
        "\n",
        "lis = change(user_input)\n",
        "lis"
      ]
    },
    {
      "cell_type": "code",
      "execution_count": 133,
      "metadata": {},
      "outputs": [],
      "source": [
        "def grade_up_five(args, correction = 5):\n",
        "    k = [score + 5 for score in args]\n",
        "    k = [100 if score > 100 else score for score in k]\n",
        "\n",
        "    return k"
      ]
    },
    {
      "cell_type": "code",
      "execution_count": 139,
      "metadata": {},
      "outputs": [
        {
          "ename": "TypeError",
          "evalue": "can only concatenate list (not \"int\") to list",
          "output_type": "error",
          "traceback": [
            "\u001b[1;31m---------------------------------------------------------------------------\u001b[0m",
            "\u001b[1;31mTypeError\u001b[0m                                 Traceback (most recent call last)",
            "Cell \u001b[1;32mIn[139], line 1\u001b[0m\n\u001b[1;32m----> 1\u001b[0m k \u001b[38;5;241m=\u001b[39m grade_up_five([\u001b[38;5;241m10\u001b[39m, \u001b[38;5;241m20\u001b[39m, \u001b[38;5;241m30\u001b[39m, \u001b[38;5;241m40\u001b[39m])\n",
            "Cell \u001b[1;32mIn[133], line 2\u001b[0m, in \u001b[0;36mgrade_up_five\u001b[1;34m(*args)\u001b[0m\n\u001b[0;32m      1\u001b[0m \u001b[38;5;28;01mdef\u001b[39;00m \u001b[38;5;21mgrade_up_five\u001b[39m(\u001b[38;5;241m*\u001b[39margs):\n\u001b[1;32m----> 2\u001b[0m     k \u001b[38;5;241m=\u001b[39m [score \u001b[38;5;241m+\u001b[39m \u001b[38;5;241m5\u001b[39m \u001b[38;5;28;01mfor\u001b[39;00m score \u001b[38;5;129;01min\u001b[39;00m args]\n\u001b[0;32m      3\u001b[0m     k \u001b[38;5;241m=\u001b[39m [\u001b[38;5;241m100\u001b[39m \u001b[38;5;28;01mif\u001b[39;00m score \u001b[38;5;241m>\u001b[39m \u001b[38;5;241m100\u001b[39m \u001b[38;5;28;01melse\u001b[39;00m score \u001b[38;5;28;01mfor\u001b[39;00m score \u001b[38;5;129;01min\u001b[39;00m k]\n\u001b[0;32m      5\u001b[0m     \u001b[38;5;28;01mreturn\u001b[39;00m k\n",
            "\u001b[1;31mTypeError\u001b[0m: can only concatenate list (not \"int\") to list"
          ]
        }
      ],
      "source": [
        "\n",
        "\n",
        "k = grade_up_five([10, 20, 30, 40])"
      ]
    },
    {
      "cell_type": "markdown",
      "metadata": {},
      "source": [
        "# 7.파이썬의 클래스"
      ]
    },
    {
      "cell_type": "markdown",
      "metadata": {},
      "source": [
        "## 7.1 클래스와 객체\n"
      ]
    },
    {
      "cell_type": "markdown",
      "metadata": {},
      "source": [
        "### 7.1.1 클래스 도입의 필요성\n",
        "\n",
        "학생 정보 관리 프로그램이 있다고 가정.  \n",
        "학생 정보를 전달해서 출력하는 student_info 함수가 존재.  \n",
        "학생 정보에는 이름, 학과, 담당 교수, 전화번호, 주소 학점이 있음.  \n",
        "6개 정보를 넘겨줘야 student_info 함수 호출 가능.  \n",
        "\n",
        "```python\n",
        "def student_info(name, department, professor, phone, address, grade):  \n",
        "    print(name)  \n",
        "    print(department)  \n",
        "    print(professor)  \n",
        "    print(phone)  \n",
        "    print(address)  \n",
        "    print(grade)  \n",
        "```\n",
        "\n",
        "\n",
        "\n",
        "학생 1명의 정보를 임의로 생성 후 stduuent_info 함수 출력  \n",
        "\n",
        "```python\n",
        "name1 = 'emily'  \n",
        "department1 = 'computer engineering'  \n",
        "professor1 = 'james'  \n",
        "phone1 = '010-1234-5678'  \n",
        "address1 = 'seoul'  \n",
        "grade1 = 'A'  \n",
        "\n",
        "student_info(name1, department1, professor1, phone1, address1, grade1)  \n",
        "```\n",
        "<br>\n",
        "\n",
        "총 6개 변수를 통해서 처리.  \n",
        "하지만 만들어야 할 변수가 많아서 관리가 쉽지 않음.  \n",
        "또한, 변수가 많아 모든 변수를 출력하기 위해 student_info 함수에  \n",
        "모두 전달해야 하는 것도 불편함.  \n",
        "<br>\n",
        "만약 1명의 학생 정보가 추가된다고 가정용\n",
        "\n",
        "```python\n",
        "name2 = 'alice'  \n",
        "department2 = 'chemical engineering'  \n",
        "professor2 = 'david'  \n",
        "phone2 = '010-5678-1234'  \n",
        "address2 = 'busan'  \n",
        "grade2 = 'B'  \n",
        "\n",
        "student_info(name2, department2, professor2, phone2, address2, grade2)  \n",
        "```\n",
        "\n",
        "위와 같은 방식을 이용하면 학생 1명이 새로 생길 때마다  \n",
        "변수가 6개씩 늘어나므로 변수 이름을 정리해서 관리하는 것이 어려움.  \n",
        "또한, student_info 호출 시 매번 6개의 변수를 전달해야만 하기에\n",
        "불필요한 시간이 낭비.\n",
        "\n",
        "이런 상황을 벗어나기 위해 클래스와 객체를 사용.  \n",
        "함수 대신 클래스와 객체를 활용하면 다음과 같이 코드가 간결해짐.\n",
        "\n",
        "\n",
        "\n",
        "```python\n",
        "student1 = Student('emily', 'computer engineering', 'james', '010-1234-5678', 'seoul', 'A')\n",
        "student2 = Student('alice', 'chemical engineering', 'david', '010-5678-1234', 'busan', 'B')\n",
        "\n",
        "student1.student_info()\n",
        "student2.student_info()\n",
        "```\n",
        "변수가 많이 사라져 student1, student2라는 2개의 변수만 남음.  \n",
        "또한, student_info 함수를 호출 시 인자를 사용하지 않음.  \n",
        "\n",
        "\n"
      ]
    },
    {
      "cell_type": "markdown",
      "metadata": {},
      "source": [
        "### 7.1.2 클래스와 객체"
      ]
    },
    {
      "cell_type": "markdown",
      "metadata": {},
      "source": [
        "#### 7.1.2.1 객체의 개념\n",
        "\n",
        "개발을 하다보면 정수나 실수 또는 문자열 등 기본적 자료형으로 표현하기 힘든 것이 존재.  \n",
        "위의 학생 관리 프로그램에서 이름, 학과, 담당교수, 전화번호, 주소, 학점의  \n",
        "6개 항목이 하나의 정보를 구성하고 있음.  \n",
        "학생 관리를 위해 6개의 항목을 하나의 이름을 가진 객체(object)로 만드는 것이 가장 좋음.  \n",
        "\n",
        "위에서는 6개의 항목을 모아 Student라는 새로운 이름을 부여한 것.  \n",
        "이와 같이 서로 다른 데이터를 하나로 묶어서 표현한 것을 '객체'라고 함."
      ]
    },
    {
      "cell_type": "markdown",
      "metadata": {},
      "source": [
        "#### 7.1.2.2 클래스의 개념\n",
        "\n",
        "클래스(class)를 한 마디로 정의하면 객체를 만드는 도구.  \n",
        "하나의 클래스를 만들어 두면 그 클래스를 통해 여러 개의 객체를 만들 수 있음.\n",
        "\n",
        "흔히 얘기하는 붕어빵 틀과 붕어빵 예를 들어 붕어빵 틀이 있으면  \n",
        "틀을 활용해 여러 개의 붕어빵을 만들 수 있음.\n",
        "\n",
        "위의 학생 관리 예시에서 학생 정보를 담고 있는 Student 클래스가 있으면  \n",
        "그 하위에 student1, student2, ... 의 학생 변수를 얼마든지 만들 수 있는 것과 동일  \n",
        "<br>\n",
        "같은 붕어빵 틀로 만든 붕어빵이라도 서로 다른 모양과 크기를 가진 붕어빵을 만들 수 있음.  \n",
        "클래스와 객체도 마찬가지로 같은 클래스로 만든 객체라도   \n",
        "객체들은 서로 다른 값을 가질 수 있음.  \n",
        "<br>\n",
        "인스턴스(instance)는 클래스를 이용해 생성한 객체를 가리키는 용어.  \n",
        "객체와 인스턴스는 그 둘을 바라보는 관점의 차이.  \n",
        "\n",
        "붕어빵 클래스로 만든 붕어빵은 객체(obejct),  \n",
        "붕어빵은 붕어빵 클래스의 인스턴스(instance)  \n",
        "\n",
        "Student 클래스로 만든 학생은 객체,  \n",
        "학생은 Student 클래스의 인스턴스"
      ]
    },
    {
      "cell_type": "markdown",
      "metadata": {},
      "source": [
        "#### 7.1.2.3 클래스 정의\n",
        "\n",
        "클래스를 작성하는 것을 클래스 정의라고 함.  \n",
        "클래스 정의 방법은 다음과 같음.  \n",
        "\n",
        "class 키워드로 클래스 정의.  \n",
        "파이썬 클래스 이름은 Cap Words(Upper Camel Case) 규칙을 따름(PEP8).\n",
        "\n",
        "\n",
        "\n",
        "```python\n",
        "class 클래스:\n",
        "  본문\n",
        "```\n",
        "\n"
      ]
    },
    {
      "cell_type": "markdown",
      "metadata": {},
      "source": [
        "#### 7.1.2.4 객체 생성\n",
        "\n",
        "클래스가 정의되면 다음과 같은 형식으로 객체 생성 가능.\n",
        "\n",
        "```python\n",
        "객체 = 클래스()\n",
        "```\n",
        "\n",
        "2개의 객체를 만들고 싶으면 다음과 같이 작업\n",
        "```python\n",
        "객체1 = 클래스()\n",
        "객체2 = 클래스()\n",
        "```\n"
      ]
    },
    {
      "cell_type": "markdown",
      "metadata": {},
      "source": [
        "#### 7.1.2.5 클래스 정의와 객체 생성\n",
        "\n",
        "실제 클래스와 객체를 다음과 같이 만들 수 있음\n",
        "\n",
        "```python\n",
        "class FishShapedBun:\n",
        "  pass\n",
        "\n",
        "fish_shaped_bun = FishShapedBun()\n",
        "```\n",
        "\n"
      ]
    },
    {
      "cell_type": "markdown",
      "metadata": {},
      "source": [
        "### 7.1.3 클래스의 구성"
      ]
    },
    {
      "cell_type": "markdown",
      "metadata": {},
      "source": [
        "#### 7.1.3.1 클래스의 기본 구성\n",
        "\n",
        "객체를 생성하기 위해서 클래스는 객체가 가져야 할 값과 기능을 가지고 있어야 함.\n",
        "\n",
        "사람을 예로 들면 다음과 같은 기능을 가지고 있음.\n",
        "\n",
        "```python\n",
        "값: 이름, 나이, 연락처, 주소 등\n",
        "기능: 잔다, 먹는다, 공부한다, 달린다 등\n",
        "```\n",
        "사람(객체)가 가지고 있는 값은 변수, 사람이 할 수 있는 기능은 함수라고 볼 수 있음.  \n",
        "\n",
        "클래스를 구성하는 변수는 2가지로 분리 가능.  \n",
        "*  클래스 변수: 클래스를 기반으로 생성된 모든 인스턴스들이 공유하는 변수.  \n",
        "*  인스턴스 변수: 모든 인스턴스들이 개별적으로 가지는 변수인 인스턴스 변수.\n",
        "\n",
        "클래스를 구성하는 함수는 더 이상 함수라고 부르지 않음.  \n",
        "클래스 내부에 존재하는 함수는 메소드라고 함.  \n",
        "메소드는 특징에 따라 클래스 메소드, 정적 메소드, 인스턴스 메소드로 분리 가능.\n",
        "\n",
        "\n",
        "\n",
        "\n"
      ]
    },
    {
      "cell_type": "markdown",
      "metadata": {},
      "source": [
        "#### 7.1.3.2 인스턴스 변수와 인스턴스 메소드\n",
        "\n",
        "\n",
        "\n",
        "* 인스턴스 변수: 클래스 기반으로 만들어지는 모든 인스턴스들이 각각 따로 저장하는 변수.  \n",
        "\n",
        "&nbsp;&nbsp;&nbsp;&nbsp;&nbsp;&nbsp;&nbsp;&nbsp;&nbsp;&nbsp;&nbsp;&nbsp;모든 인스턴스 변수는 self라는 키워드를 앞에 붙여줌.\n",
        "* 인스턴스 메소드: 인스턴스 변수를 사용하는 메소드.  \n",
        "\n",
        "&nbsp;&nbsp;&nbsp;&nbsp;&nbsp;&nbsp;&nbsp;&nbsp;&nbsp;&nbsp;&nbsp;&nbsp;인스턴스 변수값에 따라 각 인스턴스마다 다르게 동작.  \n",
        "&nbsp;&nbsp;&nbsp;&nbsp;&nbsp;&nbsp;&nbsp;&nbsp;&nbsp;&nbsp;&nbsp;&nbsp;인스턴스 메소드는 반드시 첫 번째 매개변수로 self를 추가.\n",
        "\n"
      ]
    },
    {
      "cell_type": "code",
      "execution_count": null,
      "metadata": {},
      "outputs": [],
      "source": []
    },
    {
      "cell_type": "code",
      "execution_count": null,
      "metadata": {},
      "outputs": [],
      "source": []
    },
    {
      "cell_type": "markdown",
      "metadata": {},
      "source": [
        "### 7.1.4 생성자와 소멸자"
      ]
    },
    {
      "cell_type": "markdown",
      "metadata": {},
      "source": [
        "#### 7.1.4.1 생성자\n",
        "\n",
        "위에서는 값이 없는 인스턴스를 먼저 생성하고  \n",
        "인스턴스 값을 저장하는 메소드를 나중에 호출하여 인스턴스 생성.  \n",
        "하지만 이를 이용하지 않고 처음부터 값을 가지고 있는 인스턴스를 생성 가능.  \n",
        "이를 가능케 하는 게 생성자이며,  \n",
        "생성자는 인스턴스를 생성할 때 자동으로 호출되는 특별한 메소드.  \n",
        "모든 클래스는 \\_\\_init\\_\\_()라는 생성자를 가지고 있음"
      ]
    },
    {
      "cell_type": "code",
      "execution_count": null,
      "metadata": {},
      "outputs": [],
      "source": []
    },
    {
      "cell_type": "code",
      "execution_count": null,
      "metadata": {},
      "outputs": [],
      "source": []
    },
    {
      "cell_type": "markdown",
      "metadata": {},
      "source": [
        "#### 7.1.4.2 소멸자\n",
        "인스턴스가 생성될 때 자동으로 생성되는 생성자와 마찬가지로  \n",
        "인스턴스가 소멸될 때 자동으로 호출되는 메소드를 소멸자라고 부름.  \n",
        "소멸자는 \\_\\_del\\_\\_()이라는 이름을 가지고 있음."
      ]
    },
    {
      "cell_type": "code",
      "execution_count": null,
      "metadata": {},
      "outputs": [],
      "source": []
    },
    {
      "cell_type": "markdown",
      "metadata": {},
      "source": [
        "### 7.1.5 클래스 메소드와 정적 메소드"
      ]
    },
    {
      "cell_type": "markdown",
      "metadata": {},
      "source": [
        "#### 7.1.5.1 클래스 변수\n",
        "\n",
        "클래스를 구현할 때 인스턴스마다 서로 다른 값을 가지는 경우에 인스턴스 변수 사용.  \n",
        "사람을 클래스로 구현한다고 가정하면 사람들의 이름, 나이 주소 등과 같이  \n",
        "사람마다 다른 값을 가지는 것들을 인스턴스 변수로 저장.  \n",
        "이때, 모든 인스턴스 변수들은 self 키워드를 붙여 사용.  \n",
        "<br>\n",
        "이번에는 인스턴스들이 서로 같은 값을 가지는 경우를 가정.  \n",
        "한국 사람들을 클래스로 구현한다고 가정하면,  \n",
        "사람들의 이름, 나이, 주소 등은 여전히 인스턴스마다  \n",
        "서로 다른 값을 가지겠지만, 소속 국가는 그렇지 않음.  \n",
        "한국 사람 클래스로 만든 모든 인스턴스의 소속 국가는 바로 한국.  \n",
        "이렇게 모든 인스턴스가 동일한 값을 사용할 때,  \n",
        "이를 클래스 변수로 처리해 모든 인스턴스들이 공유하도록 처리.  \n",
        "<br>\n",
        "인스턴스 변수는 인스턴스마다 값을 별도로 저장해야 하지만  \n",
        "클래스 변수는 하나의 값을 모든 인스턴스가 공유하기 때문에  \n",
        "메모리 공간의 낭비를 막을 수 있음.\n"
      ]
    },
    {
      "cell_type": "code",
      "execution_count": null,
      "metadata": {},
      "outputs": [],
      "source": []
    },
    {
      "cell_type": "code",
      "execution_count": null,
      "metadata": {},
      "outputs": [],
      "source": []
    },
    {
      "cell_type": "markdown",
      "metadata": {},
      "source": [
        "#### 7.1.5.2 클래스 메소드\n",
        "\n",
        "클래스 메소드란 클래스 변수를 사용하는 메소드.  \n",
        "다음과 같은 특징을 가짐.\n",
        "\n",
        "1. 인스턴스 또는 클래스로 호출\n",
        "2. 생성된 인스턴스가 없어도 호출\n",
        "3. @classmethod 데코레이터(decorator)를 표시하고 작성\n",
        "4. 매개변수 self를 사용하지 않고 cls를 사용\n",
        "\n",
        "클래스 메소드는 인스턴스를 통해 호출하지 않고 클래스.메소드()와 같은 형식으로 호출.  \n",
        "클래스 메소드는 self를 사용하지 않기에 인스턴스 변수에 접근할 수 없지만,  \n",
        "cls를 통해 클래스 변수에는 접근 가능."
      ]
    },
    {
      "cell_type": "code",
      "execution_count": null,
      "metadata": {},
      "outputs": [],
      "source": []
    },
    {
      "cell_type": "code",
      "execution_count": null,
      "metadata": {},
      "outputs": [],
      "source": []
    },
    {
      "cell_type": "markdown",
      "metadata": {},
      "source": [
        "#### 7.1.5.3 정적 메소드\n",
        "\n",
        "정적 메소드 역시 self를 사용하지 않기 때문에 인스턴스 변수 사용 불가.  \n",
        "인스턴스를 생성하지 않아도 사용할 수 있는 메소드라는 점에서 클래스 메소드와 비슷.  \n",
        "정적 메소드의 주요 특징은 다음과 같음.  \n",
        "\n",
        "1. 인스턴스 또는 클래스로 호출\n",
        "2. 생성된 인스턴스가 없어도 호출 가능\n",
        "3. @staticmethod 데코레이터를 표시하고 작성\n",
        "4. 반드시 작성해야 할 매개변수가 없음\n",
        "\n",
        "정적 메소드는 self와 cls 모두 사용하지 않기 때문에  \n",
        "인스턴스 변수와 클래스 변수 모두 사용하지 않는 메소드를 정의하는 경우에 적절.  \n",
        "정적 메소드는 클래스에 소속되어 있지만,  \n",
        "인스턴스에는 영향을 주지 않고 또 인스턴스로부터 영향을 받지도 않음.\n",
        "\n"
      ]
    },
    {
      "cell_type": "code",
      "execution_count": null,
      "metadata": {},
      "outputs": [],
      "source": []
    }
  ],
  "metadata": {
    "colab": {
      "provenance": [],
      "toc_visible": true
    },
    "kernelspec": {
      "display_name": "Python 3",
      "name": "python3"
    },
    "language_info": {
      "codemirror_mode": {
        "name": "ipython",
        "version": 3
      },
      "file_extension": ".py",
      "mimetype": "text/x-python",
      "name": "python",
      "nbconvert_exporter": "python",
      "pygments_lexer": "ipython3",
      "version": "3.12.4"
    }
  },
  "nbformat": 4,
  "nbformat_minor": 0
}
